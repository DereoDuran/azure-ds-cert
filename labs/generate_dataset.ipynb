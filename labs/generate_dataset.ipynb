{
 "cells": [
  {
   "cell_type": "code",
   "execution_count": 7,
   "metadata": {},
   "outputs": [],
   "source": [
    "'''\n",
    "I'm gonna use my database of TFT matches to generate a dataset\n",
    "I can work with to make the training programme more realistic\n",
    "'''\n",
    "\n",
    "from pymongo import MongoClient"
   ]
  },
  {
   "cell_type": "code",
   "execution_count": 8,
   "metadata": {},
   "outputs": [],
   "source": [
    "client = MongoClient()\n",
    "db = client['tfstacticsDB']"
   ]
  },
  {
   "cell_type": "code",
   "execution_count": 9,
   "metadata": {},
   "outputs": [
    {
     "data": {
      "text/plain": [
       "[13.18, 13.23, 13.24, 14.1]"
      ]
     },
     "execution_count": 9,
     "metadata": {},
     "output_type": "execute_result"
    }
   ],
   "source": [
    "game_versions = db.matches.distinct('info.game_version')\n",
    "releases = sorted(list(set([float(x.split()[-1].split('/')[-1][:-1]) for x in game_versions])))\n",
    "releases\n"
   ]
  },
  {
   "cell_type": "code",
   "execution_count": 10,
   "metadata": {},
   "outputs": [
    {
     "data": {
      "text/plain": [
       "{13.18: 98168, 13.23: 165417, 13.24: 58633, 14.1: 62730}"
      ]
     },
     "execution_count": 10,
     "metadata": {},
     "output_type": "execute_result"
    }
   ],
   "source": [
    "release_counts = {}\n",
    "for release in releases:\n",
    "    release_counts[release] = db.matches.count_documents({'info.game_version': {'$regex': f'{release}>'}})\n",
    "release_counts"
   ]
  },
  {
   "cell_type": "markdown",
   "metadata": {},
   "source": [
    "This is one of the simplest datasets I could create, the goal would be to predict the placement based on those features. The model wouldn't be very useful, but it serves for testing purposes. After I get comfortable with the workflows I'll add more features"
   ]
  },
  {
   "cell_type": "code",
   "execution_count": 5,
   "metadata": {},
   "outputs": [],
   "source": [
    "columns = [\n",
    "    'placement',\n",
    "    'level',\n",
    "    'gold_left',\n",
    "    'total_damage_to_players',\n",
    "    'num_units'\n",
    "]\n",
    "\n",
    "\n",
    "latest_release = releases[-1]\n",
    "\n",
    "pipeline = [\n",
    "    {\n",
    "        '$match': {\n",
    "            'info.game_version': {'$regex': f'{latest_release}>'}\n",
    "        }\n",
    "    }\n",
    "]\n",
    "\n",
    "query = db.matches.aggregate(pipeline, allowDiskUse=False)\n",
    "\n",
    "with open('tft_matches.csv', 'w') as f:\n",
    "    f.write(','.join(columns) + '\\n')\n",
    "    for match in query:\n",
    "        participants = match['info']['participants']\n",
    "        for participant in match['info']['participants']:\n",
    "            features = {\n",
    "                \"placement\":participant['placement'],\n",
    "                \"level\":participant['level'],\n",
    "                \"gold_left\":participant['gold_left'],\n",
    "                \"total_damage_to_players\":participant['total_damage_to_players'],\n",
    "                \"num_units\":len(participant.get('units', [])),\n",
    "            }\n",
    "            f.write(','.join([str(features.get(col, '')) for col in columns]) + '\\n')"
   ]
  },
  {
   "cell_type": "code",
   "execution_count": null,
   "metadata": {},
   "outputs": [],
   "source": []
  },
  {
   "cell_type": "code",
   "execution_count": null,
   "metadata": {},
   "outputs": [],
   "source": []
  },
  {
   "cell_type": "code",
   "execution_count": null,
   "metadata": {},
   "outputs": [],
   "source": []
  },
  {
   "cell_type": "code",
   "execution_count": null,
   "metadata": {},
   "outputs": [],
   "source": []
  },
  {
   "cell_type": "code",
   "execution_count": null,
   "metadata": {},
   "outputs": [],
   "source": []
  },
  {
   "cell_type": "code",
   "execution_count": null,
   "metadata": {},
   "outputs": [],
   "source": []
  }
 ],
 "metadata": {
  "kernelspec": {
   "display_name": "Python 3",
   "language": "python",
   "name": "python3"
  },
  "language_info": {
   "codemirror_mode": {
    "name": "ipython",
    "version": 3
   },
   "file_extension": ".py",
   "mimetype": "text/x-python",
   "name": "python",
   "nbconvert_exporter": "python",
   "pygments_lexer": "ipython3",
   "version": "3.12.0"
  }
 },
 "nbformat": 4,
 "nbformat_minor": 2
}
