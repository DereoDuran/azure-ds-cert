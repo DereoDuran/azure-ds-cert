{
 "cells": [
  {
   "cell_type": "code",
   "execution_count": 4,
   "metadata": {},
   "outputs": [
    {
     "name": "stdout",
     "output_type": "stream",
     "text": [
      "The dotenv extension is already loaded. To reload it, use:\n",
      "  %reload_ext dotenv\n"
     ]
    }
   ],
   "source": [
    "%load_ext dotenv\n",
    "%dotenv"
   ]
  },
  {
   "cell_type": "code",
   "execution_count": 5,
   "metadata": {},
   "outputs": [],
   "source": [
    "from azure.ai.ml import MLClient\n",
    "from azure.identity import DefaultAzureCredential\n",
    "import os\n",
    "\n",
    "subscription_id = os.getenv(\"SUBSCRIPTION_ID\")\n",
    "resource_group = os.getenv(\"RESOURCE_GROUP\")\n",
    "workspace = os.getenv(\"WORKSPACE\")\n",
    "\n",
    "ml_client = MLClient(\n",
    "    DefaultAzureCredential(), subscription_id, resource_group, workspace\n",
    ")"
   ]
  },
  {
   "cell_type": "code",
   "execution_count": 6,
   "metadata": {},
   "outputs": [
    {
     "data": {
      "text/plain": [
       "Data({'skip_validation': False, 'mltable_schema_url': None, 'referenced_uris': None, 'type': 'uri_file', 'is_anonymous': False, 'auto_increment_version': False, 'auto_delete_setting': None, 'name': 'local_csv', 'description': 'sample local file', 'tags': {}, 'properties': {}, 'print_as_yaml': True, 'id': '/subscriptions/e78d9a9e-f604-472d-9157-121f0f7ae485/resourceGroups/std/providers/Microsoft.MachineLearningServices/workspaces/mle-cert/data/local_csv/versions/0.0.1', 'Resource__source_path': None, 'base_path': 'c:\\\\Users\\\\dereo\\\\github\\\\azure-ds-cert', 'creation_context': <azure.ai.ml.entities._system_data.SystemData object at 0x0000014DB59998B0>, 'serialize': <msrest.serialization.Serializer object at 0x0000014DB599AD50>, 'version': '0.0.1', 'latest_version': None, 'path': 'azureml://subscriptions/e78d9a9e-f604-472d-9157-121f0f7ae485/resourcegroups/std/workspaces/mle-cert/datastores/workspaceblobstore/paths/LocalUpload/08d4bb86a7b54643ab69c4571c1ff673/local_csv.csv', 'datastore': None})"
      ]
     },
     "execution_count": 6,
     "metadata": {},
     "output_type": "execute_result"
    }
   ],
   "source": [
    "from azure.ai.ml.entities import Data\n",
    "from azure.ai.ml.constants import AssetTypes\n",
    "\n",
    "my_path = './data/local_csv.csv'\n",
    "\n",
    "my_data = Data(\n",
    "    path=my_path,\n",
    "    type=AssetTypes.URI_FILE,\n",
    "    description=\"sample local file\",\n",
    "    name=\"local_csv\",\n",
    "    version=\"0.0.1\"\n",
    ")\n",
    "\n",
    "ml_client.data.create_or_update(my_data)"
   ]
  },
  {
   "cell_type": "code",
   "execution_count": 7,
   "metadata": {},
   "outputs": [
    {
     "name": "stderr",
     "output_type": "stream",
     "text": [
      "\u001b[32mUploading local_folder (0.0 MBs): 100%|##########| 38/38 [00:00<00:00, 38.67it/s] \n",
      "\u001b[39m\n",
      "\n"
     ]
    },
    {
     "data": {
      "text/plain": [
       "Data({'skip_validation': False, 'mltable_schema_url': None, 'referenced_uris': None, 'type': 'uri_folder', 'is_anonymous': False, 'auto_increment_version': False, 'auto_delete_setting': None, 'name': 'local_folder', 'description': 'sample local folder', 'tags': {}, 'properties': {}, 'print_as_yaml': True, 'id': '/subscriptions/e78d9a9e-f604-472d-9157-121f0f7ae485/resourceGroups/std/providers/Microsoft.MachineLearningServices/workspaces/mle-cert/data/local_folder/versions/0.0.1', 'Resource__source_path': None, 'base_path': 'c:\\\\Users\\\\dereo\\\\github\\\\azure-ds-cert', 'creation_context': <azure.ai.ml.entities._system_data.SystemData object at 0x0000014DB5634FB0>, 'serialize': <msrest.serialization.Serializer object at 0x0000014DB5921250>, 'version': '0.0.1', 'latest_version': None, 'path': 'azureml://subscriptions/e78d9a9e-f604-472d-9157-121f0f7ae485/resourcegroups/std/workspaces/mle-cert/datastores/workspaceblobstore/paths/LocalUpload/c8cfa5c6575fc44d5478afd191523d77/local_folder/', 'datastore': None})"
      ]
     },
     "execution_count": 7,
     "metadata": {},
     "output_type": "execute_result"
    }
   ],
   "source": [
    "from azure.ai.ml.entities import Data\n",
    "from azure.ai.ml.constants import AssetTypes\n",
    "\n",
    "my_path = './data/local_folder/'\n",
    "\n",
    "my_data = Data(\n",
    "    path=my_path,\n",
    "    type=AssetTypes.URI_FOLDER,\n",
    "    description=\"sample local folder\",\n",
    "    name=\"local_folder\",\n",
    "    version='0.0.1'\n",
    ")\n",
    "\n",
    "ml_client.data.create_or_update(my_data)"
   ]
  },
  {
   "cell_type": "code",
   "execution_count": 1,
   "metadata": {},
   "outputs": [],
   "source": [
    "import mltable\n",
    "\n",
    "data_asset = ml_client.data.get(\"local_folder\", version=\"0.0.1\")\n",
    "\n",
    "path = {\n",
    "  'folder': data_asset.path\n",
    "}\n",
    "\n",
    "tbl = mltable.from_delimited_files(paths=[path])\n",
    "df = tbl.to_pandas_dataframe()\n",
    "df"
   ]
  },
  {
   "cell_type": "code",
   "execution_count": null,
   "metadata": {},
   "outputs": [],
   "source": [
    "from azure.ai.ml.entities import Data\n",
    "from azure.ai.ml.constants import AssetTypes\n",
    "\n",
    "my_path = './data/mltable/'\n",
    "\n",
    "my_data = Data(\n",
    "    path=my_path,\n",
    "    type=AssetTypes.MLTABLE,\n",
    "    description=\"sample mltable\",\n",
    "    name=\"local mltable\",\n",
    "    version='0.0.1'\n",
    ")\n",
    "\n",
    "ml_client.data.create_or_update(my_data)"
   ]
  }
 ],
 "metadata": {
  "kernelspec": {
   "display_name": "Python 3",
   "language": "python",
   "name": "python3"
  },
  "language_info": {
   "codemirror_mode": {
    "name": "ipython",
    "version": 3
   },
   "file_extension": ".py",
   "mimetype": "text/x-python",
   "name": "python",
   "nbconvert_exporter": "python",
   "pygments_lexer": "ipython3",
   "version": "3.12.0"
  }
 },
 "nbformat": 4,
 "nbformat_minor": 2
}
